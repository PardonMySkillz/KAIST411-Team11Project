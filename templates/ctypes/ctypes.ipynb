{
 "cells": [
  {
   "cell_type": "code",
   "execution_count": null,
   "metadata": {},
   "outputs": [],
   "source": [
    "from ctypes import *\n",
    "import numpy as np\n",
    "\n",
    "dll = cdll.LoadLibrary(\"./lib_c_functions.so\")"
   ]
  },
  {
   "cell_type": "markdown",
   "metadata": {},
   "source": [
    "# Calling hello world function at C"
   ]
  },
  {
   "cell_type": "code",
   "execution_count": null,
   "metadata": {},
   "outputs": [],
   "source": [
    "dll.hello_world()"
   ]
  },
  {
   "cell_type": "markdown",
   "metadata": {},
   "source": [
    "# Calling a simple integer add function at C"
   ]
  },
  {
   "cell_type": "code",
   "execution_count": null,
   "metadata": {},
   "outputs": [],
   "source": [
    "a = 3\n",
    "b = 4\n",
    "dll.add(c_int32(a), c_int32(b))"
   ]
  },
  {
   "cell_type": "markdown",
   "metadata": {},
   "source": [
    "# Defining the output type of implmented C function\n",
    "This will automatically convert result of functions to a C pointer type"
   ]
  },
  {
   "cell_type": "code",
   "execution_count": null,
   "metadata": {},
   "outputs": [],
   "source": [
    "dll.add_vec.restype = POINTER(c_int)"
   ]
  },
  {
   "cell_type": "markdown",
   "metadata": {},
   "source": [
    "# Running a vector add functions with bug\n",
    "There are three things to consider in running the following code:\n",
    "- You have to pass the length of the pointer to C function, so that the python kernel won't crash\n",
    "- To prevent memory leakage, copy data into numpy array and free the allocated pointer\n",
    "- The results don't seems to match with what we've expected. This is because the default float type of numpy is np.int64 (not the same size with c int)"
   ]
  },
  {
   "cell_type": "code",
   "execution_count": null,
   "metadata": {},
   "outputs": [],
   "source": [
    "a = np.array([1,2])\n",
    "b = np.array([3,4])\n",
    "c_p = dll.add_vec(a.ctypes.data_as(POINTER(c_float)), b.ctypes.data_as(POINTER(c_float)), c_int(a.size))\n",
    "arr = np.ctypeslib.as_array(c_p, a.shape)\n",
    "arr_copied = np.copy(arr)\n",
    "dll.free(c_p)\n",
    "arr_copied"
   ]
  },
  {
   "cell_type": "markdown",
   "metadata": {},
   "source": [
    "# Running a well implemented vector add functions\n",
    "Initialize the data type to np.int32. But you don't need to worry the case, since all the value in the project is running at np.float32."
   ]
  },
  {
   "cell_type": "code",
   "execution_count": null,
   "metadata": {},
   "outputs": [],
   "source": [
    "a = np.array([1,2], dtype=np.int32)\n",
    "b = np.array([3,4], dtype=np.int32)\n",
    "c_p = dll.add_vec(a.ctypes.data_as(POINTER(c_float)), b.ctypes.data_as(POINTER(c_float)), c_int(a.size))\n",
    "arr = np.ctypeslib.as_array(c_p, a.shape)\n",
    "arr_copied = np.copy(arr)\n",
    "dll.free(c_p)\n",
    "arr_copied"
   ]
  }
 ],
 "metadata": {
  "kernelspec": {
   "display_name": "Python 3",
   "language": "python",
   "name": "python3"
  },
  "language_info": {
   "codemirror_mode": {
    "name": "ipython",
    "version": 3
   },
   "file_extension": ".py",
   "mimetype": "text/x-python",
   "name": "python",
   "nbconvert_exporter": "python",
   "pygments_lexer": "ipython3",
   "version": "3.10.12"
  },
  "orig_nbformat": 4
 },
 "nbformat": 4,
 "nbformat_minor": 2
}
